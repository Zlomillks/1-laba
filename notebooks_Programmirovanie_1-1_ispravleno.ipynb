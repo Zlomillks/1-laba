{
  "metadata": {
    "kernelspec": {
      "name": "python",
      "display_name": "Python (Pyodide)",
      "language": "python"
    },
    "language_info": {
      "codemirror_mode": {
        "name": "python",
        "version": 3
      },
      "file_extension": ".py",
      "mimetype": "text/x-python",
      "name": "python",
      "nbconvert_exporter": "python",
      "pygments_lexer": "ipython3",
      "version": "3.8"
    }
  },
  "nbformat_minor": 5,
  "nbformat": 4,
  "cells": [
    {
      "cell_type": "code",
      "source": "# Задача 1. Вернуть первый элемент, третий элемент, второй с конца элемент входного массива.\n\na = [1]\ndef v(x):\n    if 2 > len(x):\n        return \"Слишком маленький список\"\n    n1 = x[0]\n    n2 = x[1]\n    n3 = x[-2]\n    return [n1, n2, n3]\n\nprint(v(a))",
      "metadata": {
        "scrolled": true,
        "trusted": true
      },
      "execution_count": 1,
      "outputs": [
        {
          "name": "stdout",
          "text": "Слишком маленький список\n",
          "output_type": "stream"
        }
      ],
      "id": "638e3fe7"
    },
    {
      "cell_type": "code",
      "source": "# Задача 1.1 Вернуть элемент входного массива. Элемент должен быть параметром функции.\n\na = [1, 2, 3, 4, 5, 6, 7]\nb = 100\n\ndef v(x,y):\n    if y > len(x):\n        return \"Слишком большой индекс или слишком маленький список\"\n    return x[y-1]\n\nprint(v(a, b))",
      "metadata": {},
      "execution_count": null,
      "outputs": [],
      "id": "ab513ff5"
    },
    {
      "cell_type": "code",
      "source": "# Задача 1.2 Вернуть элемент входного массива. Элемент можно ввести\n\na = [1, 2, 3, 4, 5, 6, 7]\ndef v(x):\n    el = int(input(\"Введите номер элемента \"))\n    if el > len(x):\n        return \"Слишком большой индекс или слишком маленький индекс\"\n    return x[el-1]\n\nprint(v(a))",
      "metadata": {},
      "execution_count": 6,
      "outputs": [
        {
          "name": "stdout",
          "output_type": "stream",
          "text": "Введите номер элемента 100\n\nСлишком большой индекс или слишком маленький индекс\n"
        }
      ],
      "id": "f469b986"
    },
    {
      "cell_type": "code",
      "source": "# Задача 2. Дан массив чисел и число N. Возвести число в позиции N в степень N. Если это невозможно, то вернуть -1.\n\na = [1, 2, 3, 4, 5, 6, 7, 8, 9, 10]\nN = 20\n\ndef v(x):\n    if N > len(a):\n        return -1\n    elif type(x[N]**N)==int:\n        return x[N]**N\n    else:\n        return -1\n\nprint(v(a))",
      "metadata": {},
      "execution_count": 8,
      "outputs": [
        {
          "name": "stdout",
          "output_type": "stream",
          "text": "-1\n"
        }
      ],
      "id": "3b9f122b"
    },
    {
      "cell_type": "code",
      "source": "# Задача 3. Найти второй индекс входного символа во входной строке. \n# Пример: f(«сбербанк», «б») == 4\n\na = (\"В информатике, строковый тип - тип данных\")\nb = (\"о\")\n\ndef i(x, y):\n    n = 0\n    ind = 0\n    for k in x:\n        if k==y:\n            n+=1\n        if n==2:\n            break\n        ind += 1\n    if n==2:\n        return ind\n    else:\n        return \"Тут нет второго входящего символа\"\n    \nprint(i(a,b))",
      "metadata": {
        "trusted": true
      },
      "execution_count": 2,
      "outputs": [
        {
          "name": "stdout",
          "text": "18\n",
          "output_type": "stream"
        }
      ],
      "id": "2c8ac1b5"
    },
    {
      "cell_type": "code",
      "source": "# Задача 4. Найти количество нулей в конце входного числа.\n# Пример: f(101100110100) == 2\n\na = 0\n\ndef x(y):\n    n = 0\n    if y == 0:\n        n = 1\n    else:\n        while y%10==0:\n            n += 1\n            y = y // 10\n    return n\n    \nprint(x(a))",
      "metadata": {},
      "execution_count": 2,
      "outputs": [
        {
          "name": "stdout",
          "output_type": "stream",
          "text": "1\n"
        }
      ],
      "id": "2b4d5dff"
    },
    {
      "cell_type": "code",
      "source": "# Задача 5. Представить входную строку в обратном порядке.\n\na = \"Сатана печёт блины\"\n\ndef p(x):\n    s = x[::-1]\n    return s\n\nprint(p(a))",
      "metadata": {},
      "execution_count": 36,
      "outputs": [
        {
          "name": "stdout",
          "output_type": "stream",
          "text": "ынилб тёчеп анатаС\n"
        }
      ],
      "id": "ec91f483"
    },
    {
      "cell_type": "code",
      "source": "# Задача 6. Проверить состоит ли входной массив исключительного из одного и того же значения.\n\na = []\n\ndef x(y):\n    if len(set(y))==0:\n        return \"Список пустой\"\n    elif len(set(y))>1:\n        return \"Не состоит\"\n    else:\n        return \"Состоит\"\n    \nprint(x(a))",
      "metadata": {},
      "execution_count": 10,
      "outputs": [
        {
          "name": "stdout",
          "output_type": "stream",
          "text": "Список пустой\n"
        }
      ],
      "id": "6fe568eb"
    },
    {
      "cell_type": "code",
      "source": "# Задача 7. Проверить сложность пароля во входной строке. \n# Пароль должен содержать, как минимум, одну букву в нижнем регистре, \n# одну букву в верхнем регистре, одну цифру и не содержит никаких других символов. \n# Минимальная длина пароля 16 символов.  \n\np = \"XE4Ql0k0xOml3HKq\"\n\ndef check_password(password):\n    if len(password) < 16:\n        return False\n    if not any(s.islower() for s in password):\n        return False\n    if not any(s.isupper() for s in password):\n        return False\n    if not any(s.isdigit() for s in password):\n        return False\n    if not password.isalnum():\n        return False\n    return True\n\nprint(check_password(p))",
      "metadata": {},
      "execution_count": 2,
      "outputs": [
        {
          "name": "stdout",
          "output_type": "stream",
          "text": "True\n"
        }
      ],
      "id": "562259f7"
    },
    {
      "cell_type": "code",
      "source": "# Задача 8. Во входном списке имеются вложенные списки, которые также могут иметь вложенные списки. \n# Необходимо вытянуть список в одномерный массив (flatten).\n\nl = [[10, 35, [3, 14, 62], [73]], 4, [21, 17, [32]]]\n\ndef flatten(x):\n    a = []\n    for i in x:\n        if isinstance(i, list):\n            a.extend(flatten(i))\n        else:\n            a.append(i)\n    return a\n\nprint(flatten(l))",
      "metadata": {},
      "execution_count": 2,
      "outputs": [
        {
          "name": "stdout",
          "output_type": "stream",
          "text": "[10, 35, 3, 14, 62, 73, 4, 21, 17, 32]\n"
        }
      ],
      "id": "f9c8da97"
    },
    {
      "cell_type": "code",
      "source": "# Задача 9. На вход принимается словарь(dict), в котором ключами являются строки (str), а значениями числа (float). \n# Необходимо вернуть ключ максимального значения.\n\nd = {'a': 7, 'b': 2, 'c': 3, 'd': 5, 'e': 6}\n\ndef max_key(x):\n    a = -999999\n    k = 0\n    for i in x:\n        if x[i] > a:\n            a = x[i]\n            k = i\n    return k\n\nprint(max_key(d))",
      "metadata": {},
      "execution_count": 3,
      "outputs": [
        {
          "name": "stdout",
          "output_type": "stream",
          "text": "d\n"
        }
      ],
      "id": "9b24d38f"
    },
    {
      "cell_type": "code",
      "source": "# Задача 10.  Дан непустой список целых чисел (X). \n# Необходимо вернуть список, содержащий только неуникальные значения из входного списка. \n# Порядок чисел не должен меняться.\n# Пример: [1,2,3,1,3] => [1,3,1,3]\n\n\nl = [1,2,3,1,3]\n\n\ndef pov(i):\n    counter = {}\n    for r in i:\n        if r in counter.keys():\n            counter[r] += 1\n        else:\n            counter[r] = 1\n    a = []\n    for x in i:\n        if counter[x] > 1:\n            a.append(x)\n    return a\n\nprint(pov(l))",
      "metadata": {
        "scrolled": true,
        "trusted": true
      },
      "execution_count": 3,
      "outputs": [
        {
          "name": "stdout",
          "text": "[1, 3, 1, 3]\n",
          "output_type": "stream"
        }
      ],
      "id": "5d63aa66"
    },
    {
      "cell_type": "code",
      "source": "",
      "metadata": {},
      "execution_count": null,
      "outputs": [],
      "id": "0873f666"
    }
  ]
}